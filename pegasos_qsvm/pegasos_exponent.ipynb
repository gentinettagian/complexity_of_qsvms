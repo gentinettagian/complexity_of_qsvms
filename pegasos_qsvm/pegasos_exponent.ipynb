{
 "cells": [
  {
   "cell_type": "code",
   "execution_count": 37,
   "metadata": {},
   "outputs": [],
   "source": [
    "import numpy as np\n",
    "import pandas as pd\n",
    "import matplotlib.pyplot as plt\n",
    "import pickle\n",
    "from variational_forms import _VariationalForm\n",
    "from feature_maps import MediumFeatureMap\n",
    "from pegasos_experiment import generate_qsvm_data, run_advanced_experiment\n",
    "from qiskit.utils import QuantumInstance, algorithm_globals\n",
    "from qiskit_machine_learning.kernels import QuantumKernel\n",
    "from quantum_neural_networks import QuantumNeuralNetwork\n",
    "from qiskit import BasicAer"
   ]
  },
  {
   "cell_type": "code",
   "execution_count": 38,
   "metadata": {},
   "outputs": [],
   "source": [
    "# blue\n",
    "color_0 = '#1f77b4'\n",
    "color_0_light = '#8fbbd9'\n",
    "\n",
    "# orange\n",
    "color_1 = '#ff7f0e'\n",
    "color_1_light = '#ffbf86'\n",
    "\n",
    "colors = [color_0, color_1]\n",
    "colors_light = [color_0_light,color_1_light]\n",
    "\n",
    "# other constants\n",
    "lower_percentile = 0.159\n",
    "upper_percentile = 0.841\n",
    "\n",
    "plt.rcParams.update({'font.size': 24,\n",
    "                     'xtick.labelsize': 20,\n",
    "                     'ytick.labelsize': 20,\n",
    "                     'axes.titlesize': 28,\n",
    "                     'axes.labelsize': 28,\n",
    "                     'mathtext.fontset': 'stix',\n",
    "                     'font.family': 'STIXGeneral'})"
   ]
  },
  {
   "cell_type": "code",
   "execution_count": 39,
   "metadata": {},
   "outputs": [],
   "source": [
    "margin = 0.1\n",
    "positive = 'positive' if margin > 0 else 'negative'\n",
    "filename = f'data/advanced_margin_{margin}_data.csv'\n",
    "# data size\n",
    "M = 100\n",
    "# iterations\n",
    "N = 1000\n",
    "# number of repeats per experiment\n",
    "n = 50\n",
    "shots = [8,16,32,64,128,256,512,1024,2048,4096]"
   ]
  },
  {
   "cell_type": "code",
   "execution_count": 40,
   "metadata": {},
   "outputs": [
    {
     "name": "stderr",
     "output_type": "stream",
     "text": [
      " 76%|███████▌  | 38/50 [00:02<00:00, 17.22it/s]\n"
     ]
    },
    {
     "ename": "KeyboardInterrupt",
     "evalue": "",
     "output_type": "error",
     "traceback": [
      "\u001b[0;31m---------------------------------------------------------------------------\u001b[0m",
      "\u001b[0;31mKeyboardInterrupt\u001b[0m                         Traceback (most recent call last)",
      "\u001b[0;32m/var/folders/4n/frd9t6cx0ybc9csrrpzfk9mw0000gn/T/ipykernel_5298/1821486368.py\u001b[0m in \u001b[0;36m<module>\u001b[0;34m\u001b[0m\n\u001b[1;32m      2\u001b[0m \u001b[0;34m\u001b[0m\u001b[0m\n\u001b[1;32m      3\u001b[0m \u001b[0;32mfor\u001b[0m \u001b[0mC\u001b[0m \u001b[0;32min\u001b[0m \u001b[0mCs\u001b[0m\u001b[0;34m:\u001b[0m\u001b[0;34m\u001b[0m\u001b[0;34m\u001b[0m\u001b[0m\n\u001b[0;32m----> 4\u001b[0;31m     \u001b[0mrun_advanced_experiment\u001b[0m\u001b[0;34m(\u001b[0m\u001b[0mmargin\u001b[0m\u001b[0;34m,\u001b[0m\u001b[0mC\u001b[0m\u001b[0;34m,\u001b[0m\u001b[0mN\u001b[0m\u001b[0;34m,\u001b[0m\u001b[0mshots\u001b[0m\u001b[0;34m,\u001b[0m\u001b[0mM\u001b[0m\u001b[0;34m,\u001b[0m\u001b[0;36m0\u001b[0m\u001b[0;34m,\u001b[0m\u001b[0mn\u001b[0m\u001b[0;34m)\u001b[0m\u001b[0;34m\u001b[0m\u001b[0;34m\u001b[0m\u001b[0m\n\u001b[0m\u001b[1;32m      5\u001b[0m \u001b[0;34m\u001b[0m\u001b[0m\n",
      "\u001b[0;32m~/Documents/complexity_of_qsvm/pegasos_qsvm/pegasos_experiment.py\u001b[0m in \u001b[0;36mrun_advanced_experiment\u001b[0;34m(margin, C, N, shots, M, M_test, n_tests)\u001b[0m\n\u001b[1;32m    309\u001b[0m         \u001b[0malgorithm_globals\u001b[0m\u001b[0;34m.\u001b[0m\u001b[0mrandom_seed\u001b[0m \u001b[0;34m=\u001b[0m \u001b[0ms\u001b[0m\u001b[0;34m\u001b[0m\u001b[0;34m\u001b[0m\u001b[0m\n\u001b[1;32m    310\u001b[0m         \u001b[0;31m# Running tests\u001b[0m\u001b[0;34m\u001b[0m\u001b[0;34m\u001b[0m\u001b[0m\n\u001b[0;32m--> 311\u001b[0;31m         \u001b[0my_state\u001b[0m\u001b[0;34m,\u001b[0m \u001b[0ma\u001b[0m\u001b[0;34m,\u001b[0m \u001b[0m_\u001b[0m\u001b[0;34m,\u001b[0m \u001b[0mevals\u001b[0m \u001b[0;34m=\u001b[0m \u001b[0mpegasos\u001b[0m\u001b[0;34m(\u001b[0m\u001b[0mK\u001b[0m\u001b[0;34m,\u001b[0m\u001b[0my\u001b[0m\u001b[0;34m,\u001b[0m\u001b[0mN\u001b[0m\u001b[0;34m,\u001b[0m\u001b[0mC\u001b[0m\u001b[0;34m,\u001b[0m\u001b[0mseed\u001b[0m\u001b[0;34m=\u001b[0m\u001b[0ms\u001b[0m\u001b[0;34m,\u001b[0m\u001b[0mfull_returns\u001b[0m\u001b[0;34m=\u001b[0m\u001b[0;32mTrue\u001b[0m\u001b[0;34m)\u001b[0m\u001b[0;34m\u001b[0m\u001b[0;34m\u001b[0m\u001b[0m\n\u001b[0m\u001b[1;32m    312\u001b[0m \u001b[0;34m\u001b[0m\u001b[0m\n\u001b[1;32m    313\u001b[0m \u001b[0;34m\u001b[0m\u001b[0m\n",
      "\u001b[0;32m~/Documents/complexity_of_qsvm/pegasos_qsvm/pegasos.py\u001b[0m in \u001b[0;36mpegasos\u001b[0;34m(K, y, N, C, seed, full_returns)\u001b[0m\n\u001b[1;32m     52\u001b[0m \u001b[0;34m\u001b[0m\u001b[0m\n\u001b[1;32m     53\u001b[0m         \u001b[0;31m# only count evaluations for non-zero alphas\u001b[0m\u001b[0;34m\u001b[0m\u001b[0;34m\u001b[0m\u001b[0m\n\u001b[0;32m---> 54\u001b[0;31m         \u001b[0mevals\u001b[0m\u001b[0;34m[\u001b[0m\u001b[0mt\u001b[0m\u001b[0;34m]\u001b[0m \u001b[0;34m=\u001b[0m \u001b[0mevals\u001b[0m\u001b[0;34m[\u001b[0m\u001b[0mt\u001b[0m\u001b[0;34m-\u001b[0m\u001b[0;36m1\u001b[0m\u001b[0;34m]\u001b[0m \u001b[0;34m+\u001b[0m \u001b[0mnp\u001b[0m\u001b[0;34m.\u001b[0m\u001b[0msum\u001b[0m\u001b[0;34m(\u001b[0m\u001b[0ma\u001b[0m\u001b[0;34m[\u001b[0m\u001b[0mt\u001b[0m\u001b[0;34m-\u001b[0m\u001b[0;36m1\u001b[0m\u001b[0;34m]\u001b[0m \u001b[0;34m>\u001b[0m \u001b[0;36m0\u001b[0m\u001b[0;34m)\u001b[0m\u001b[0;34m\u001b[0m\u001b[0;34m\u001b[0m\u001b[0m\n\u001b[0m\u001b[1;32m     55\u001b[0m \u001b[0;34m\u001b[0m\u001b[0m\n\u001b[1;32m     56\u001b[0m     \u001b[0;32mif\u001b[0m \u001b[0mfull_returns\u001b[0m\u001b[0;34m:\u001b[0m\u001b[0;34m\u001b[0m\u001b[0;34m\u001b[0m\u001b[0m\n",
      "\u001b[0;31mKeyboardInterrupt\u001b[0m: "
     ]
    }
   ],
   "source": [
    "Cs = [10.,1000.]\n",
    "\n",
    "for C in Cs:\n",
    "    run_advanced_experiment(margin,C,N,shots,M,0,n)\n",
    "        "
   ]
  },
  {
   "cell_type": "code",
   "execution_count": 41,
   "metadata": {},
   "outputs": [
    {
     "name": "stdout",
     "output_type": "stream",
     "text": [
      "8.0 did not converge\n",
      "32.0 did not converge\n",
      "512.0 did not converge\n",
      "64.0 did not converge\n",
      "64.0 did not converge\n",
      "256.0 did not converge\n",
      "64.0 did not converge\n",
      "512.0 did not converge\n",
      "2048.0 did not converge\n",
      "128.0 did not converge\n",
      "1024.0 did not converge\n",
      "16.0 did not converge\n",
      "256.0 did not converge\n",
      "2048.0 did not converge\n",
      "4096.0 did not converge\n",
      "16.0 did not converge\n",
      "4096.0 did not converge\n"
     ]
    },
    {
     "name": "stderr",
     "output_type": "stream",
     "text": [
      "/var/folders/4n/frd9t6cx0ybc9csrrpzfk9mw0000gn/T/ipykernel_5298/2698453509.py:33: VisibleDeprecationWarning: Creating an ndarray from ragged nested sequences (which is a list-or-tuple of lists-or-tuples-or ndarrays with different lengths or shapes) is deprecated. If you meant to do this, you must specify 'dtype=object' when creating the ndarray.\n",
      "  epsilons1 = np.array(epsilons1)\n",
      "/var/folders/4n/frd9t6cx0ybc9csrrpzfk9mw0000gn/T/ipykernel_5298/2698453509.py:34: VisibleDeprecationWarning: Creating an ndarray from ragged nested sequences (which is a list-or-tuple of lists-or-tuples-or ndarrays with different lengths or shapes) is deprecated. If you meant to do this, you must specify 'dtype=object' when creating the ndarray.\n",
      "  epsilons2 = np.array(epsilons2)\n"
     ]
    }
   ],
   "source": [
    "# load data\n",
    "data = pd.read_csv(filename)\n",
    "data = data[data['R'] > 4]\n",
    "\n",
    "epsilons1 = []\n",
    "epsilons2 = []\n",
    "stops = []\n",
    "\n",
    "\n",
    "for j, r in data.iterrows():\n",
    "    file = f\"data/dumps/{int(r['seed'])}_R_{int(r['R'])}_C_{r['C']}_M_{int(r['M'])}_margin_{margin}.pkl\"\n",
    "    history = pickle.load(open(file,'rb')) \n",
    "    hinges = history['hinge_loss'] \n",
    "    eps1 = history['epsilons']\n",
    "    eps2 = history['epsilons2']\n",
    "\n",
    "\n",
    "    #eps = np.array([np.max(np.abs(np.sum(y*(a[i] - a_state[-1])*K,axis=1))) for i in range(len(a_state))])\n",
    "\n",
    "    diff = np.abs(hinges[1:] - hinges[:-1])\n",
    "    try:\n",
    "        stop = np.where(diff < 1e-6*r['C'])[0][0]\n",
    "        epsilons1.append(eps1)\n",
    "        epsilons2.append(eps2)\n",
    "        stops.append(stop)\n",
    "    except:\n",
    "        print(r['R'], 'did not converge')\n",
    "        epsilons1.append(np.nan)\n",
    "        epsilons2.append(np.nan)\n",
    "        stops.append(np.nan)\n",
    "\n",
    "stops = np.array(stops)\n",
    "epsilons1 = np.array(epsilons1)\n",
    "epsilons2 = np.array(epsilons2)"
   ]
  },
  {
   "cell_type": "code",
   "execution_count": 42,
   "metadata": {},
   "outputs": [
    {
     "data": {
      "image/png": "[encoded data removed]",
      "text/plain": [
       "<Figure size 720x504 with 1 Axes>"
      ]
     },
     "metadata": {
      "needs_background": "light"
     },
     "output_type": "display_data"
    }
   ],
   "source": [
    "def plot_conv(C,c,cl):\n",
    "    stops_R = [stops[np.invert(np.isnan(stops)) & (data['R'] == R) & (data['C'] == C)] for R in shots]\n",
    "    stop_means = np.array([np.mean(stops_R[i]) for i in range(len(stops_R))])\n",
    "    upper = np.array([np.quantile(stops_R[i], upper_percentile) for i in range(len(stops_R))])\n",
    "    lower = np.array([np.quantile(stops_R[i],lower_percentile) for i in range(len(stops_R))])\n",
    "    errors = np.array([stop_means - lower, upper - stop_means])\n",
    "    #stop_std = np.std(stops_R,axis=1)\n",
    "    plt.errorbar(shots,stop_means,yerr=errors,label=r'$\\lambda = 1/{{%s}}$'%int(C),marker='.',ecolor=cl,elinewidth=1.,ls='',capsize=2,\n",
    "        color=c, ms=10)\n",
    "\n",
    "plt.figure(figsize=(10,7))\n",
    "\n",
    "for i, C in enumerate(Cs):\n",
    "    plot_conv(C,colors[i],colors_light[i])\n",
    "plt.xscale('log')\n",
    "plt.xticks(shots,shots)\n",
    "plt.xlabel('#shots per evaluation')\n",
    "plt.ylabel('#iterations until convergence')\n",
    "plt.legend()\n",
    "plt.grid()\n",
    "plt.savefig(f'plots/convergence_{positive}_margin.png',dpi=300,bbox_inches='tight')\n"
   ]
  },
  {
   "cell_type": "code",
   "execution_count": 43,
   "metadata": {},
   "outputs": [
    {
     "ename": "IndexError",
     "evalue": "only integers, slices (`:`), ellipsis (`...`), numpy.newaxis (`None`) and integer or boolean arrays are valid indices",
     "output_type": "error",
     "traceback": [
      "\u001b[0;31m---------------------------------------------------------------------------\u001b[0m",
      "\u001b[0;31mIndexError\u001b[0m                                Traceback (most recent call last)",
      "\u001b[0;32m/var/folders/4n/frd9t6cx0ybc9csrrpzfk9mw0000gn/T/ipykernel_5298/625341066.py\u001b[0m in \u001b[0;36m<module>\u001b[0;34m\u001b[0m\n\u001b[1;32m     18\u001b[0m \u001b[0mplt\u001b[0m\u001b[0;34m.\u001b[0m\u001b[0mfigure\u001b[0m\u001b[0;34m(\u001b[0m\u001b[0mfigsize\u001b[0m\u001b[0;34m=\u001b[0m\u001b[0;34m(\u001b[0m\u001b[0;36m10\u001b[0m\u001b[0;34m,\u001b[0m\u001b[0;36m7\u001b[0m\u001b[0;34m)\u001b[0m\u001b[0;34m)\u001b[0m\u001b[0;34m\u001b[0m\u001b[0;34m\u001b[0m\u001b[0m\n\u001b[1;32m     19\u001b[0m \u001b[0;32mfor\u001b[0m \u001b[0mi\u001b[0m\u001b[0;34m,\u001b[0m \u001b[0mC\u001b[0m \u001b[0;32min\u001b[0m \u001b[0menumerate\u001b[0m\u001b[0;34m(\u001b[0m\u001b[0mCs\u001b[0m\u001b[0;34m)\u001b[0m\u001b[0;34m:\u001b[0m\u001b[0;34m\u001b[0m\u001b[0;34m\u001b[0m\u001b[0m\n\u001b[0;32m---> 20\u001b[0;31m     \u001b[0mplot_epsilon_convergence\u001b[0m\u001b[0;34m(\u001b[0m\u001b[0mC\u001b[0m\u001b[0;34m,\u001b[0m\u001b[0mcolors\u001b[0m\u001b[0;34m[\u001b[0m\u001b[0mi\u001b[0m\u001b[0;34m]\u001b[0m\u001b[0;34m,\u001b[0m\u001b[0mcolors_light\u001b[0m\u001b[0;34m[\u001b[0m\u001b[0mi\u001b[0m\u001b[0;34m]\u001b[0m\u001b[0;34m)\u001b[0m\u001b[0;34m\u001b[0m\u001b[0;34m\u001b[0m\u001b[0m\n\u001b[0m\u001b[1;32m     21\u001b[0m \u001b[0mplt\u001b[0m\u001b[0;34m.\u001b[0m\u001b[0mxscale\u001b[0m\u001b[0;34m(\u001b[0m\u001b[0;34m'log'\u001b[0m\u001b[0;34m)\u001b[0m\u001b[0;34m\u001b[0m\u001b[0;34m\u001b[0m\u001b[0m\n\u001b[1;32m     22\u001b[0m \u001b[0mplt\u001b[0m\u001b[0;34m.\u001b[0m\u001b[0myscale\u001b[0m\u001b[0;34m(\u001b[0m\u001b[0;34m'log'\u001b[0m\u001b[0;34m)\u001b[0m\u001b[0;34m\u001b[0m\u001b[0;34m\u001b[0m\u001b[0m\n",
      "\u001b[0;32m/var/folders/4n/frd9t6cx0ybc9csrrpzfk9mw0000gn/T/ipykernel_5298/625341066.py\u001b[0m in \u001b[0;36mplot_epsilon_convergence\u001b[0;34m(C, c, cl)\u001b[0m\n\u001b[1;32m      1\u001b[0m \u001b[0;32mdef\u001b[0m \u001b[0mplot_epsilon_convergence\u001b[0m\u001b[0;34m(\u001b[0m\u001b[0mC\u001b[0m\u001b[0;34m,\u001b[0m\u001b[0mc\u001b[0m\u001b[0;34m,\u001b[0m\u001b[0mcl\u001b[0m\u001b[0;34m)\u001b[0m\u001b[0;34m:\u001b[0m\u001b[0;34m\u001b[0m\u001b[0;34m\u001b[0m\u001b[0m\n\u001b[1;32m      2\u001b[0m     \u001b[0mfilter\u001b[0m \u001b[0;34m=\u001b[0m \u001b[0mdata\u001b[0m\u001b[0;34m[\u001b[0m\u001b[0;34m'C'\u001b[0m\u001b[0;34m]\u001b[0m \u001b[0;34m==\u001b[0m \u001b[0mC\u001b[0m\u001b[0;34m\u001b[0m\u001b[0;34m\u001b[0m\u001b[0m\n\u001b[0;32m----> 3\u001b[0;31m     \u001b[0mepsilons_conv\u001b[0m \u001b[0;34m=\u001b[0m \u001b[0mnp\u001b[0m\u001b[0;34m.\u001b[0m\u001b[0marray\u001b[0m\u001b[0;34m(\u001b[0m\u001b[0;34m[\u001b[0m\u001b[0mepsilons2\u001b[0m\u001b[0;34m[\u001b[0m\u001b[0mi\u001b[0m\u001b[0;34m,\u001b[0m\u001b[0mstops\u001b[0m\u001b[0;34m[\u001b[0m\u001b[0mi\u001b[0m\u001b[0;34m]\u001b[0m\u001b[0;34m]\u001b[0m \u001b[0;32mfor\u001b[0m \u001b[0mi\u001b[0m \u001b[0;32min\u001b[0m \u001b[0mrange\u001b[0m\u001b[0;34m(\u001b[0m\u001b[0mlen\u001b[0m\u001b[0;34m(\u001b[0m\u001b[0mepsilons2\u001b[0m\u001b[0;34m)\u001b[0m\u001b[0;34m)\u001b[0m\u001b[0;34m]\u001b[0m\u001b[0;34m)\u001b[0m\u001b[0;34m\u001b[0m\u001b[0;34m\u001b[0m\u001b[0m\n\u001b[0m\u001b[1;32m      4\u001b[0m     \u001b[0mepsC\u001b[0m \u001b[0;34m=\u001b[0m \u001b[0mnp\u001b[0m\u001b[0;34m.\u001b[0m\u001b[0marray\u001b[0m\u001b[0;34m(\u001b[0m\u001b[0;34m[\u001b[0m\u001b[0mepsilons_conv\u001b[0m\u001b[0;34m[\u001b[0m\u001b[0mfilter\u001b[0m \u001b[0;34m&\u001b[0m \u001b[0;34m(\u001b[0m\u001b[0mdata\u001b[0m\u001b[0;34m[\u001b[0m\u001b[0;34m'R'\u001b[0m\u001b[0;34m]\u001b[0m \u001b[0;34m==\u001b[0m \u001b[0mR\u001b[0m\u001b[0;34m)\u001b[0m\u001b[0;34m]\u001b[0m \u001b[0;32mfor\u001b[0m \u001b[0mR\u001b[0m \u001b[0;32min\u001b[0m \u001b[0mshots\u001b[0m\u001b[0;34m]\u001b[0m\u001b[0;34m)\u001b[0m\u001b[0;34m\u001b[0m\u001b[0;34m\u001b[0m\u001b[0m\n\u001b[1;32m      5\u001b[0m     \u001b[0meps_means\u001b[0m \u001b[0;34m=\u001b[0m \u001b[0mnp\u001b[0m\u001b[0;34m.\u001b[0m\u001b[0mmean\u001b[0m\u001b[0;34m(\u001b[0m\u001b[0mepsC\u001b[0m\u001b[0;34m,\u001b[0m\u001b[0maxis\u001b[0m\u001b[0;34m=\u001b[0m\u001b[0;36m1\u001b[0m\u001b[0;34m)\u001b[0m\u001b[0;34m\u001b[0m\u001b[0;34m\u001b[0m\u001b[0m\n",
      "\u001b[0;32m/var/folders/4n/frd9t6cx0ybc9csrrpzfk9mw0000gn/T/ipykernel_5298/625341066.py\u001b[0m in \u001b[0;36m<listcomp>\u001b[0;34m(.0)\u001b[0m\n\u001b[1;32m      1\u001b[0m \u001b[0;32mdef\u001b[0m \u001b[0mplot_epsilon_convergence\u001b[0m\u001b[0;34m(\u001b[0m\u001b[0mC\u001b[0m\u001b[0;34m,\u001b[0m\u001b[0mc\u001b[0m\u001b[0;34m,\u001b[0m\u001b[0mcl\u001b[0m\u001b[0;34m)\u001b[0m\u001b[0;34m:\u001b[0m\u001b[0;34m\u001b[0m\u001b[0;34m\u001b[0m\u001b[0m\n\u001b[1;32m      2\u001b[0m     \u001b[0mfilter\u001b[0m \u001b[0;34m=\u001b[0m \u001b[0mdata\u001b[0m\u001b[0;34m[\u001b[0m\u001b[0;34m'C'\u001b[0m\u001b[0;34m]\u001b[0m \u001b[0;34m==\u001b[0m \u001b[0mC\u001b[0m\u001b[0;34m\u001b[0m\u001b[0;34m\u001b[0m\u001b[0m\n\u001b[0;32m----> 3\u001b[0;31m     \u001b[0mepsilons_conv\u001b[0m \u001b[0;34m=\u001b[0m \u001b[0mnp\u001b[0m\u001b[0;34m.\u001b[0m\u001b[0marray\u001b[0m\u001b[0;34m(\u001b[0m\u001b[0;34m[\u001b[0m\u001b[0mepsilons2\u001b[0m\u001b[0;34m[\u001b[0m\u001b[0mi\u001b[0m\u001b[0;34m,\u001b[0m\u001b[0mstops\u001b[0m\u001b[0;34m[\u001b[0m\u001b[0mi\u001b[0m\u001b[0;34m]\u001b[0m\u001b[0;34m]\u001b[0m \u001b[0;32mfor\u001b[0m \u001b[0mi\u001b[0m \u001b[0;32min\u001b[0m \u001b[0mrange\u001b[0m\u001b[0;34m(\u001b[0m\u001b[0mlen\u001b[0m\u001b[0;34m(\u001b[0m\u001b[0mepsilons2\u001b[0m\u001b[0;34m)\u001b[0m\u001b[0;34m)\u001b[0m\u001b[0;34m]\u001b[0m\u001b[0;34m)\u001b[0m\u001b[0;34m\u001b[0m\u001b[0;34m\u001b[0m\u001b[0m\n\u001b[0m\u001b[1;32m      4\u001b[0m     \u001b[0mepsC\u001b[0m \u001b[0;34m=\u001b[0m \u001b[0mnp\u001b[0m\u001b[0;34m.\u001b[0m\u001b[0marray\u001b[0m\u001b[0;34m(\u001b[0m\u001b[0;34m[\u001b[0m\u001b[0mepsilons_conv\u001b[0m\u001b[0;34m[\u001b[0m\u001b[0mfilter\u001b[0m \u001b[0;34m&\u001b[0m \u001b[0;34m(\u001b[0m\u001b[0mdata\u001b[0m\u001b[0;34m[\u001b[0m\u001b[0;34m'R'\u001b[0m\u001b[0;34m]\u001b[0m \u001b[0;34m==\u001b[0m \u001b[0mR\u001b[0m\u001b[0;34m)\u001b[0m\u001b[0;34m]\u001b[0m \u001b[0;32mfor\u001b[0m \u001b[0mR\u001b[0m \u001b[0;32min\u001b[0m \u001b[0mshots\u001b[0m\u001b[0;34m]\u001b[0m\u001b[0;34m)\u001b[0m\u001b[0;34m\u001b[0m\u001b[0;34m\u001b[0m\u001b[0m\n\u001b[1;32m      5\u001b[0m     \u001b[0meps_means\u001b[0m \u001b[0;34m=\u001b[0m \u001b[0mnp\u001b[0m\u001b[0;34m.\u001b[0m\u001b[0mmean\u001b[0m\u001b[0;34m(\u001b[0m\u001b[0mepsC\u001b[0m\u001b[0;34m,\u001b[0m\u001b[0maxis\u001b[0m\u001b[0;34m=\u001b[0m\u001b[0;36m1\u001b[0m\u001b[0;34m)\u001b[0m\u001b[0;34m\u001b[0m\u001b[0;34m\u001b[0m\u001b[0m\n",
      "\u001b[0;31mIndexError\u001b[0m: only integers, slices (`:`), ellipsis (`...`), numpy.newaxis (`None`) and integer or boolean arrays are valid indices"
     ]
    },
    {
     "data": {
      "text/plain": [
       "<Figure size 720x504 with 0 Axes>"
      ]
     },
     "metadata": {},
     "output_type": "display_data"
    }
   ],
   "source": [
    "def plot_epsilon_convergence(C,c,cl):\n",
    "    filter = data['C'] == C\n",
    "    epsilons_conv = np.array([epsilons2[i,stops[i]] for i in range(len(epsilons2))])\n",
    "    epsC = np.array([epsilons_conv[filter & (data['R'] == R)] for R in shots])\n",
    "    eps_means = np.mean(epsC,axis=1)\n",
    "    upper = np.quantile(epsC, upper_percentile, axis=1)\n",
    "    lower = np.quantile(epsC,lower_percentile,axis=1)\n",
    "    errors = np.array([eps_means - lower, upper - eps_means])\n",
    "    #eps_std = np.std(epsC,axis=1)\n",
    "    p = np.polyfit(np.log(eps_means),np.log(shots),1)\n",
    "    print(p)\n",
    "    plt.errorbar(eps_means,shots,xerr=errors,label=r'$\\lambda=1/{{%s}},\\, R\\propto\\varepsilon^{{%.2f}}$'%(int(C),p[0]),\n",
    "        marker='.',ecolor=cl,elinewidth=1.,ls='',capsize=2, color=c, ms=10)\n",
    "    efine = np.linspace(np.min(epsilons_conv),np.max(epsilons_conv))\n",
    "    plt.plot(efine,np.exp(p[1])*efine**p[0],'-.',color=cl)\n",
    "\n",
    "\n",
    "plt.figure(figsize=(10,7))\n",
    "for i, C in enumerate(Cs):\n",
    "    plot_epsilon_convergence(C,colors[i],colors_light[i])\n",
    "plt.xscale('log')\n",
    "plt.yscale('log')\n",
    "plt.yticks(shots,shots)\n",
    "plt.ylabel('#shots per evaluation')\n",
    "plt.xlabel(r'Error $\\varepsilon$ after convergence')\n",
    "plt.legend(loc='upper right')\n",
    "plt.ylim(3,6000)\n",
    "plt.grid()\n",
    "plt.savefig(f'plots/exponent_{positive}_margin_convergence.png',dpi=300,bbox_inches='tight')\n"
   ]
  }
 ],
 "metadata": {
  "interpreter": {
   "hash": "82c9b155add844aee23525c6d021f33a807b4bfd3db5bda67fe04920efd087bf"
  },
  "kernelspec": {
   "display_name": "Python 3.9.7 64-bit ('quantum_source': conda)",
   "language": "python",
   "name": "python3"
  },
  "language_info": {
   "codemirror_mode": {
    "name": "ipython",
    "version": 3
   },
   "file_extension": ".py",
   "mimetype": "text/x-python",
   "name": "python",
   "nbconvert_exporter": "python",
   "pygments_lexer": "ipython3",
   "version": "3.9.7"
  },
  "orig_nbformat": 4
 },
 "nbformat": 4,
 "nbformat_minor": 2
}
