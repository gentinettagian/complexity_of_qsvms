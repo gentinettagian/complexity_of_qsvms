{
 "cells": [
  {
   "cell_type": "code",
   "execution_count": 2,
   "metadata": {},
   "outputs": [],
   "source": [
    "import numpy as np\n",
    "import matplotlib.pyplot as plt\n",
    "import pandas as pd\n",
    "from tqdm import tqdm\n",
    "import pickle"
   ]
  },
  {
   "cell_type": "code",
   "execution_count": 3,
   "metadata": {},
   "outputs": [],
   "source": [
    "from pegasos_experiment import generate_qsvm_data\n",
    "from feature_maps import MediumFeatureMap\n",
    "from qiskit.utils import QuantumInstance, algorithm_globals\n",
    "from qiskit_machine_learning.kernels import QuantumKernel\n",
    "from qiskit import Aer\n",
    "from pegasos import pegasos"
   ]
  },
  {
   "cell_type": "code",
   "execution_count": 4,
   "metadata": {},
   "outputs": [],
   "source": [
    "def hinge_loss(y_true,y_pred):\n",
    "    loss = 1. - y_true*y_pred\n",
    "    loss[loss < 0 ] = 0.0\n",
    "    return loss\n"
   ]
  },
  {
   "cell_type": "code",
   "execution_count": 5,
   "metadata": {},
   "outputs": [],
   "source": [
    "# blue\n",
    "color_0 = '#1f77b4'\n",
    "color_0_light = '#8fbbd9'\n",
    "\n",
    "# orange\n",
    "color_1 = '#ff7f0e'\n",
    "color_1_light = '#ffbf86'\n",
    "\n",
    "colors = [color_0, color_1]\n",
    "colors_light = [color_0_light,color_1_light]\n",
    "\n",
    "# other constants\n",
    "lower_percentile = 0.159\n",
    "upper_percentile = 0.841\n",
    "\n",
    "plt.rcParams.update({'font.size': 24,\n",
    "                     'xtick.labelsize': 20,\n",
    "                     'ytick.labelsize': 20,\n",
    "                     'axes.titlesize': 28,\n",
    "                     'axes.labelsize': 28,\n",
    "                     'mathtext.fontset': 'stix',\n",
    "                     'font.family': 'STIXGeneral'})"
   ]
  },
  {
   "cell_type": "code",
   "execution_count": 6,
   "metadata": {},
   "outputs": [],
   "source": [
    "margin = -0.1\n",
    "Ms = 2**np.arange(6,12)\n",
    "N = 1000\n",
    "Cs = [10,1000]\n",
    "tol = 1e-4\n",
    "\n",
    "sep = 'separable' if margin > 0 else 'overlap'"
   ]
  },
  {
   "cell_type": "code",
   "execution_count": 7,
   "metadata": {},
   "outputs": [],
   "source": [
    "y = np.array(pd.read_csv(f'data/2-qubits/{margin}_y_2048.csv')).reshape(-1)\n",
    "X = np.array(pd.read_csv(f'data/2-qubits/{margin}_X_2048.csv'))\n",
    "\n",
    "def load_data(M, seed = 42):\n",
    "        assert (M <= 2048) & (M % 2 == 0)\n",
    "        np.random.seed(seed)\n",
    "        indices1 = np.random.randint(0,np.sum(y == 1),M//2)\n",
    "        indices2 = np.random.randint(0,np.sum(y == -1),M//2)\n",
    "\n",
    "        X1 = X[y == 1][indices1]\n",
    "        y1 = y[y == 1][indices1]\n",
    "        X2 = X[y == -1][indices2]\n",
    "        y2 = y[y == -1][indices1]\n",
    "\n",
    "        X12 = np.vstack([X1,X2])\n",
    "        y12 = np.append(y1,y2)\n",
    "\n",
    "        shuffle = np.random.choice(M, M, replace=False)\n",
    "        return X12[shuffle], y12[shuffle]"
   ]
  },
  {
   "cell_type": "code",
   "execution_count": 8,
   "metadata": {},
   "outputs": [
    {
     "name": "stderr",
     "output_type": "stream",
     "text": [
      "100%|██████████| 6/6 [00:00<00:00, 1147.03it/s]\n"
     ]
    },
    {
     "name": "stdout",
     "output_type": "stream",
     "text": [
      "Found M 64\n",
      "Found M 128\n",
      "Found M 256\n",
      "Found M 512\n",
      "Found M 1024\n",
      "Found M 2048\n"
     ]
    },
    {
     "name": "stderr",
     "output_type": "stream",
     "text": [
      "100%|██████████| 6/6 [00:00<00:00, 1896.30it/s]"
     ]
    },
    {
     "name": "stdout",
     "output_type": "stream",
     "text": [
      "Found M 64\n",
      "Found M 128\n",
      "Found M 256\n",
      "Found M 512\n",
      "Found M 1024\n",
      "Found M 2048\n"
     ]
    },
    {
     "name": "stderr",
     "output_type": "stream",
     "text": [
      "\n"
     ]
    }
   ],
   "source": [
    "# Feature map for the experiment\n",
    "feature_map = MediumFeatureMap(2,4)\n",
    "\n",
    "# Kernel\n",
    "adhoc_backend = QuantumInstance(Aer.get_backend('statevector_simulator'))\n",
    "adhoc_kernel = QuantumKernel(feature_map=feature_map.get_reduced_params_circuit(), quantum_instance=adhoc_backend)\n",
    "\n",
    "np.random.seed(41)\n",
    "seeds = np.random.randint(0,10000,10)\n",
    "dtypes = {'seed': int, 'C' : int, 'M' : int}\n",
    "# Checking whether experiment has already been partially done and loading existing data\n",
    "try:\n",
    "    results = pd.read_csv(f'data/M_{margin}_data.csv',dtype=dtypes)\n",
    "except:\n",
    "    columns = ['seed','C','M']\n",
    "    results = pd.DataFrame(columns=columns)\n",
    "    results.to_csv(f'data/M_{margin}_data.csv',index=False)\n",
    "\n",
    "for C in Cs[::-1]:\n",
    "    for M in tqdm(Ms):\n",
    "        if ((results['M'] == M) & (results['C'] == C)).any():\n",
    "            print(f'Found M {M}')\n",
    "            continue\n",
    "        # Creating artificial data\n",
    "        X,y = load_data(M)\n",
    "        K = adhoc_kernel.evaluate(X)\n",
    "        for s in seeds:\n",
    "            y_preds, _,_,_ = pegasos(K,y,N,C,seed=s,full_returns=True)\n",
    "            losses = [np.mean(hinge_loss(y,yp)) for yp in y_preds]\n",
    "            pickle.dump(losses,open(f'data/dumps/M_dependence_{s}_C_{C}_M_{M}_{margin}.pkl','wb'))\n",
    "            results.loc[results.shape[0]] = [s,C,M]\n",
    "            results.to_csv(f'data/M_{margin}_data.csv',index=False)"
   ]
  },
  {
   "cell_type": "code",
   "execution_count": 24,
   "metadata": {},
   "outputs": [
    {
     "data": {
      "image/png": "[encoded data removed]",
      "text/plain": [
       "<Figure size 720x504 with 1 Axes>"
      ]
     },
     "metadata": {
      "needs_background": "light"
     },
     "output_type": "display_data"
    }
   ],
   "source": [
    "plt.figure(figsize=(10,7))\n",
    "for k, C in enumerate([10,1000]):\n",
    "    convergence_after = np.zeros((len(Ms),len(seeds)))\n",
    "    for i, M in enumerate(Ms):\n",
    "        for j, s in enumerate(seeds):\n",
    "            filename = f'data/dumps/M_dependence_{s}_C_{C}_M_{M}_{margin}.pkl'\n",
    "            hinges = np.array(pickle.load(open(filename,'rb')))\n",
    "            diff = np.abs(hinges[1:] - hinges[:-1])\n",
    "            convergence_after[i,j] = np.where(diff < 1e-3)[0][0]\n",
    "\n",
    "    means = np.mean(convergence_after,axis=1)\n",
    "    upper = np.quantile(convergence_after, upper_percentile, axis=1)\n",
    "    lower = np.quantile(convergence_after,lower_percentile,axis=1)\n",
    "    errors = np.array([means - lower, upper - means])\n",
    "    \n",
    "    plt.errorbar(Ms,means,yerr=errors,label=r'$\\lambda = 1/{{%s}}$'%int(C),marker='.',ecolor=colors_light[k],elinewidth=1.,ls='',capsize=2,\n",
    "            color=colors[k], ms=10)\n",
    "\n",
    "plt.xscale('log')\n",
    "plt.xticks(Ms,Ms)\n",
    "plt.grid()\n",
    "if margin < 0:\n",
    "    plt.legend()\n",
    "plt.ylabel('#Iterations until convergence')\n",
    "plt.xlabel(r'Data size $M$')\n",
    "plt.savefig(f'plots/pegasos_M_{sep}.png',dpi=300,bbox_inches='tight')"
   ]
  },
  {
   "cell_type": "code",
   "execution_count": 10,
   "metadata": {},
   "outputs": [],
   "source": [
    "X_,y_ = load_data(256)\n",
    "K_ = adhoc_kernel.evaluate(X_)"
   ]
  },
  {
   "cell_type": "code",
   "execution_count": 11,
   "metadata": {},
   "outputs": [],
   "source": [
    "from sklearn.svm import SVC\n",
    "svc = SVC(kernel='precomputed',C=10)\n",
    "svc.fit(K_,y_)\n",
    "h = svc.decision_function(K_)"
   ]
  },
  {
   "cell_type": "code",
   "execution_count": 17,
   "metadata": {},
   "outputs": [],
   "source": [
    "from shot_based_kernel import ShotBasedQuantumKernel\n",
    "shots_kernel = ShotBasedQuantumKernel(K_)\n",
    "K_R = shots_kernel.approximate_kernel(10024)"
   ]
  },
  {
   "cell_type": "code",
   "execution_count": 18,
   "metadata": {},
   "outputs": [],
   "source": [
    "svc_R = SVC(kernel='precomputed',C=10)\n",
    "svc_R.fit(K_R,y_)\n",
    "h1 = svc_R.decision_function(K_R)\n",
    "h2 = svc_R.decision_function(K_)"
   ]
  },
  {
   "cell_type": "code",
   "execution_count": 19,
   "metadata": {},
   "outputs": [
    {
     "name": "stdout",
     "output_type": "stream",
     "text": [
      "2.231480340261454 1.2196903513718809\n"
     ]
    }
   ],
   "source": [
    "eps1 = np.max(np.abs(h-h1))\n",
    "eps2 = np.max(np.abs(h-h2))\n",
    "print(eps1,eps2)"
   ]
  }
 ],
 "metadata": {
  "interpreter": {
   "hash": "82c9b155add844aee23525c6d021f33a807b4bfd3db5bda67fe04920efd087bf"
  },
  "kernelspec": {
   "display_name": "Python 3.9.7 64-bit ('quantum_source': conda)",
   "language": "python",
   "name": "python3"
  },
  "language_info": {
   "codemirror_mode": {
    "name": "ipython",
    "version": 3
   },
   "file_extension": ".py",
   "mimetype": "text/x-python",
   "name": "python",
   "nbconvert_exporter": "python",
   "pygments_lexer": "ipython3",
   "version": "3.9.7"
  },
  "orig_nbformat": 4
 },
 "nbformat": 4,
 "nbformat_minor": 2
}
