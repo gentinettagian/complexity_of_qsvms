{
 "cells": [
  {
   "cell_type": "code",
   "execution_count": 1,
   "metadata": {},
   "outputs": [],
   "source": [
    "import pandas as pd\n",
    "import numpy as np\n",
    "import pickle\n",
    "import matplotlib.pyplot as plt\n",
    "import matplotlib\n",
    "from qiskit_machine_learning.utils.loss_functions import CrossEntropyLoss\n",
    "\n",
    "plt.rcParams.update({'font.size': 24,\n",
    "                     'xtick.labelsize': 20,\n",
    "                     'ytick.labelsize': 20,\n",
    "                     'axes.titlesize': 20,\n",
    "                     'axes.labelsize': 24,\n",
    "                     'mathtext.fontset': 'stix',\n",
    "                     'font.family': 'STIXGeneral'})"
   ]
  },
  {
   "cell_type": "code",
   "execution_count": 2,
   "metadata": {},
   "outputs": [],
   "source": [
    "d=8\n",
    "features=2\n",
    "prefix = f'features={features}/d={d}/'\n",
    "d2=16\n",
    "features2=8\n",
    "prefix2 = f'features={features2}/d={d2}/'\n",
    "ds = [d,d2]\n",
    "sep = 'overlap'\n",
    "samples = 10"
   ]
  },
  {
   "cell_type": "code",
   "execution_count": 4,
   "metadata": {},
   "outputs": [
    {
     "name": "stdout",
     "output_type": "stream",
     "text": [
      "        Seed  Shots  Evaluations  CSteps   Epsilon\n",
      "0    15795.0    2.0       3000.0    30.0  0.852216\n",
      "1    15795.0    8.0       3000.0    30.0  0.627207\n",
      "2    15795.0   32.0       3000.0    30.0  0.189647\n",
      "3    15795.0  128.0       3000.0    30.0  0.081146\n",
      "4    15795.0  512.0       3000.0    30.0  0.061931\n",
      "..       ...    ...          ...     ...       ...\n",
      "210  59150.0    2.0       3000.0    30.0  0.920517\n",
      "211  59150.0    8.0       3000.0    30.0  0.462294\n",
      "212  59150.0   32.0       3000.0    30.0  0.206240\n",
      "213  59150.0  128.0       3000.0    30.0  0.150778\n",
      "214  59150.0  512.0       3000.0    30.0  0.064775\n",
      "\n",
      "[215 rows x 5 columns]\n",
      "       Seed  Shots  Evaluations  CSteps   Epsilon\n",
      "0   15795.0    2.0       3000.0    30.0  0.574030\n",
      "1   15795.0    8.0       3000.0    30.0  0.396430\n",
      "2   15795.0   32.0       3000.0    30.0  0.215170\n",
      "3   15795.0  128.0       3000.0    30.0  0.118613\n",
      "4   15795.0  512.0       3000.0    30.0  0.052347\n",
      "..      ...    ...          ...     ...       ...\n",
      "91  64820.0    2.0       3000.0    30.0  0.610475\n",
      "92  64820.0    8.0       3000.0    30.0  0.491057\n",
      "93  64820.0   32.0       3000.0    30.0  0.216258\n",
      "94  64820.0  128.0       3000.0    30.0  0.131251\n",
      "95  64820.0  512.0       3000.0    30.0  0.078003\n",
      "\n",
      "[96 rows x 5 columns]\n"
     ]
    }
   ],
   "source": [
    "df = pd.read_csv(f'{prefix}spsa_sgd_{sep}.csv')\n",
    "\n"
   ]
  }
 ],
 "metadata": {
  "interpreter": {
   "hash": "82c9b155add844aee23525c6d021f33a807b4bfd3db5bda67fe04920efd087bf"
  },
  "kernelspec": {
   "display_name": "Python 3.9.7 64-bit ('quantum_source': conda)",
   "language": "python",
   "name": "python3"
  },
  "language_info": {
   "codemirror_mode": {
    "name": "ipython",
    "version": 3
   },
   "file_extension": ".py",
   "mimetype": "text/x-python",
   "name": "python",
   "nbconvert_exporter": "python",
   "pygments_lexer": "ipython3",
   "version": "3.9.7"
  },
  "orig_nbformat": 4
 },
 "nbformat": 4,
 "nbformat_minor": 2
}
