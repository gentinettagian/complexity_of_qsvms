{
 "cells": [
  {
   "cell_type": "code",
   "execution_count": 2,
   "metadata": {},
   "outputs": [],
   "source": [
    "import numpy as np\n",
    "import pandas as pd\n",
    "import matplotlib.pyplot as plt"
   ]
  },
  {
   "cell_type": "code",
   "execution_count": 8,
   "metadata": {},
   "outputs": [],
   "source": [
    "# blue\n",
    "color_0 = '#1f77b4'\n",
    "color_0_light = '#8fbbd9'\n",
    "\n",
    "# orange\n",
    "color_1 = '#ff7f0e'\n",
    "color_1_light = '#ffbf86'\n",
    "\n",
    "colors = [color_0, color_1]\n",
    "colors_light = [color_0_light,color_1_light]\n",
    "\n",
    "# other constants\n",
    "lower_percentile = 0.159\n",
    "upper_percentile = 0.841\n",
    "\n",
    "plt.rcParams.update({'font.size': 24,\n",
    "                     'xtick.labelsize': 20,\n",
    "                     'ytick.labelsize': 20,\n",
    "                     'axes.titlesize': 28,\n",
    "                     'axes.labelsize': 28,\n",
    "                     'mathtext.fontset': 'stix',\n",
    "                     'font.family': 'STIXGeneral'})"
   ]
  },
  {
   "cell_type": "code",
   "execution_count": 9,
   "metadata": {},
   "outputs": [],
   "source": [
    "margin=0.1\n",
    "C = 10.\n",
    "df = pd.read_csv(f'experiments/M_{margin}_data.csv')\n",
    "sep = 'separable' if margin > 0 else 'overlap'"
   ]
  },
  {
   "cell_type": "code",
   "execution_count": 13,
   "metadata": {},
   "outputs": [],
   "source": [
    "df = df[df['shots'] > -1]\n",
    "df = df[df['C'] == C]"
   ]
  },
  {
   "cell_type": "code",
   "execution_count": 14,
   "metadata": {},
   "outputs": [],
   "source": [
    "Ms = list(set(df['M']))\n",
    "Ms.sort()\n",
    "Ms = np.array(Ms)\n",
    "epsilons = list(set(df['epsilon']))\n",
    "epsilons.sort()\n",
    "epsilons = np.array(epsilons)"
   ]
  },
  {
   "cell_type": "code",
   "execution_count": 15,
   "metadata": {},
   "outputs": [
    {
     "name": "stdout",
     "output_type": "stream",
     "text": [
      "6\n"
     ]
    },
    {
     "data": {
      "text/plain": [
       "<matplotlib.collections.PathCollection at 0x7fd5a267eb50>"
      ]
     },
     "execution_count": 15,
     "metadata": {},
     "output_type": "execute_result"
    },
    {
     "data": {
      "image/png": "[encoded data removed]",
      "text/plain": [
       "<Figure size 432x288 with 1 Axes>"
      ]
     },
     "metadata": {
      "needs_background": "light"
     },
     "output_type": "display_data"
    },
    {
     "data": {
      "image/png": "[encoded data removed]",
      "text/plain": [
       "<Figure size 432x288 with 1 Axes>"
      ]
     },
     "metadata": {
      "needs_background": "light"
     },
     "output_type": "display_data"
    }
   ],
   "source": [
    "exponents = np.zeros(epsilons.shape)\n",
    "for i, eps in enumerate(epsilons):\n",
    "    R_needed = np.array([np.mean(df['shots'][(df['M'] == M) & (df['epsilon'] == eps)]) for M in Ms])\n",
    "    filter = np.invert(np.isnan(R_needed))\n",
    "    print(np.sum(filter))\n",
    "    plt.scatter(Ms[filter],R_needed[filter])\n",
    "    plt.xscale('log')\n",
    "    plt.yscale('log')\n",
    "    plt.xlabel('M')\n",
    "    plt.ylabel('R')\n",
    "    p = np.polyfit(np.log(Ms[filter]),np.log(R_needed[filter]),1)\n",
    "    exponents[i] = p[0]\n",
    "plt.figure()\n",
    "plt.scatter(epsilons,exponents)"
   ]
  },
  {
   "cell_type": "code",
   "execution_count": 28,
   "metadata": {},
   "outputs": [
    {
     "data": {
      "text/plain": [
       "array([0.1, 0.2, 0.3])"
      ]
     },
     "execution_count": 28,
     "metadata": {},
     "output_type": "execute_result"
    }
   ],
   "source": [
    "epsilons"
   ]
  }
 ],
 "metadata": {
  "interpreter": {
   "hash": "82c9b155add844aee23525c6d021f33a807b4bfd3db5bda67fe04920efd087bf"
  },
  "kernelspec": {
   "display_name": "Python 3.9.7 64-bit ('quantum_source': conda)",
   "language": "python",
   "name": "python3"
  },
  "language_info": {
   "codemirror_mode": {
    "name": "ipython",
    "version": 3
   },
   "file_extension": ".py",
   "mimetype": "text/x-python",
   "name": "python",
   "nbconvert_exporter": "python",
   "pygments_lexer": "ipython3",
   "version": "3.9.7"
  },
  "orig_nbformat": 4
 },
 "nbformat": 4,
 "nbformat_minor": 2
}
