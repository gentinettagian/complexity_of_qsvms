{
 "cells": [
  {
   "cell_type": "code",
   "execution_count": 1,
   "metadata": {},
   "outputs": [],
   "source": [
    "import numpy as np\n",
    "import matplotlib.pyplot as plt\n",
    "import pandas as pd\n",
    "from tqdm import tqdm\n",
    "import pickle\n",
    "from feature_maps import MediumFeatureMap\n",
    "from qiskit.utils import QuantumInstance, algorithm_globals\n",
    "from qiskit_machine_learning.kernels import QuantumKernel\n",
    "from qiskit import Aer\n",
    "from SVM import SVM\n",
    "from sklearn.svm import SVC\n",
    "from shot_based_kernel import BinomialKernel"
   ]
  },
  {
   "cell_type": "code",
   "execution_count": 2,
   "metadata": {},
   "outputs": [],
   "source": [
    "# blue\n",
    "color_0 = '#1f77b4'\n",
    "color_0_light = '#8fbbd9'\n",
    "\n",
    "# orange\n",
    "color_1 = '#ff7f0e'\n",
    "color_1_light = '#ffbf86'\n",
    "\n",
    "colors = [color_0, color_1]\n",
    "colors_light = [color_0_light,color_1_light]\n",
    "\n",
    "# other constants\n",
    "lower_percentile = 0.159\n",
    "upper_percentile = 0.841\n",
    "\n",
    "plt.rcParams.update({'font.size': 24,\n",
    "                     'xtick.labelsize': 20,\n",
    "                     'ytick.labelsize': 20,\n",
    "                     'axes.titlesize': 28,\n",
    "                     'axes.labelsize': 28,\n",
    "                     'mathtext.fontset': 'stix',\n",
    "                     'font.family': 'STIXGeneral'})"
   ]
  },
  {
   "cell_type": "code",
   "execution_count": 3,
   "metadata": {},
   "outputs": [],
   "source": [
    "margin=-0.1\n",
    "M = 256\n",
    "sep = 'separable' if margin > 0 else 'overlap'\n",
    "#shots = [4,8,16,32,64,128,256,512,1024,2048,4096, 8192] #list(set(df['R'])) #\n",
    "shots = 10**np.arange(5,17,2)\n",
    "shots.sort()\n",
    "n_seeds = 100\n",
    "rng = np.random.default_rng(42)\n",
    "seeds = rng.integers(0,10000,n_seeds)\n",
    "Cs = [10.,1000.]"
   ]
  },
  {
   "cell_type": "code",
   "execution_count": 9,
   "metadata": {},
   "outputs": [],
   "source": [
    "backend = QuantumInstance(Aer.get_backend('statevector_simulator'))\n",
    "feature_map = MediumFeatureMap(2,4)\n",
    "kernel = QuantumKernel(feature_map=feature_map.get_reduced_params_circuit(), quantum_instance=backend)"
   ]
  },
  {
   "cell_type": "code",
   "execution_count": 4,
   "metadata": {},
   "outputs": [],
   "source": [
    "def load_data(M, margin, seed = 42):\n",
    "    assert (M <= 2048) & (M % 2 == 0)\n",
    "    y = np.array(pd.read_csv(f'data/2-qubits/{margin}_y_2048.csv')).reshape(-1)\n",
    "    X = np.array(pd.read_csv(f'data/2-qubits/{margin}_X_2048.csv'))\n",
    "\n",
    "    np.random.seed(seed)\n",
    "    indices1 = np.random.randint(0,np.sum(y == 1),M//2)\n",
    "    indices2 = np.random.randint(0,np.sum(y == -1),M//2)\n",
    "\n",
    "    X1 = X[y == 1][indices1]\n",
    "    y1 = y[y == 1][indices1]\n",
    "    X2 = X[y == -1][indices2]\n",
    "    y2 = y[y == -1][indices1]\n",
    "\n",
    "    X12 = np.vstack([X1,X2])\n",
    "    y12 = np.append(y1,y2)\n",
    "\n",
    "    shuffle = np.random.choice(M, M, replace=False)\n",
    "    return X12[shuffle], y12[shuffle]"
   ]
  },
  {
   "cell_type": "code",
   "execution_count": 14,
   "metadata": {},
   "outputs": [
    {
     "name": "stdout",
     "output_type": "stream",
     "text": [
      "failed 10000000000000\n"
     ]
    }
   ],
   "source": [
    "plt.figure(figsize=(10,7))\n",
    "epsilons = np.zeros((len(Cs), len(seeds), len(shots)))\n",
    "for i, C in enumerate(Cs):\n",
    "    for j, s in enumerate(seeds):\n",
    "        X, y = load_data(M, margin, s)\n",
    "        K = kernel.evaluate(X)\n",
    "        K[K < 0 ] = 0\n",
    "        K[K > 1] = 1\n",
    "        svm = SVM(kernel='precomputed', C=C)\n",
    "        svm.fit(K, y)\n",
    "        h = svm.decision_function(K)\n",
    "        \n",
    "        shots_kernel = BinomialKernel(K)\n",
    "        for l, R in enumerate(shots):\n",
    "            kernel_bad = True\n",
    "            while kernel_bad:\n",
    "                K_R = shots_kernel.approximate_kernel(R, s)\n",
    "                svm_R = SVM(kernel='precomputed', C=C)\n",
    "                if svm_R.fit(K_R, y):\n",
    "                    h_R = svm_R.decision_function(K_R)\n",
    "                    epsilons[i, j, l] = np.max(np.abs(h - h_R))\n",
    "                    kernel_bad = False\n",
    "                else:\n",
    "                    print(f'failed {R}')\n",
    "                    s = s + 1\n",
    "                    \n",
    "\n",
    "    means = np.mean(epsilons[i,:],axis=0)\n",
    "    upper = np.quantile(epsilons[i,:], upper_percentile, axis=0)\n",
    "    lower = np.quantile(epsilons[i,:],lower_percentile,axis=0)\n",
    "    errors = np.array([means - lower, upper - means])\n",
    "\n",
    "    plt.errorbar(means,shots,xerr=errors,marker='.',ecolor=colors_light[i],elinewidth=1.,ls='',capsize=2,\n",
    "        color=colors[i], ms=10)\n",
    "    #plt.scatter(means,shots,c=colors[i])\n",
    "    #plt.errorbar(means,shots,xerr=stds,fmt='.')\n",
    "    plt.xscale('log')\n",
    "    plt.yscale('log')\n",
    "    p = np.polyfit(np.log(means),np.log(shots),1)\n",
    "    print(p)\n",
    "    efine = np.geomspace(0.0001,1e4,1000)\n",
    "    plt.plot(efine,np.exp(p[1])*efine**(p[0]),linestyle='-.',label=r'$\\lambda = 1/{{%s}},\\quad R\\propto\\varepsilon^{{%.2f}}$'%(int(C),p[0]),color=colors_light[i])\n",
    "\n",
    "plt.yticks(shots,shots)\n",
    "#plt.xlim(1e-1,1e4)\n",
    "#plt.ylim(2,1e4)\n",
    "plt.xlabel(r'Error $\\varepsilon$')\n",
    "plt.ylabel(r'Shots $R$')\n",
    "plt.grid()\n",
    "plt.legend(loc='lower left')\n",
    "#plt.savefig(f'plots/dual_exponent_{sep}.png',dpi=300,bbox_inches='tight')"
   ]
  }
 ],
 "metadata": {
  "interpreter": {
   "hash": "82c9b155add844aee23525c6d021f33a807b4bfd3db5bda67fe04920efd087bf"
  },
  "kernelspec": {
   "display_name": "Python 3.9.7 64-bit ('quantum_source': conda)",
   "language": "python",
   "name": "python3"
  },
  "language_info": {
   "codemirror_mode": {
    "name": "ipython",
    "version": 3
   },
   "file_extension": ".py",
   "mimetype": "text/x-python",
   "name": "python",
   "nbconvert_exporter": "python",
   "pygments_lexer": "ipython3",
   "version": "3.9.7"
  },
  "orig_nbformat": 4
 },
 "nbformat": 4,
 "nbformat_minor": 2
}
