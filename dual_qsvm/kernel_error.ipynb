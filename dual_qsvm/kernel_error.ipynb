{
 "cells": [
  {
   "cell_type": "code",
   "execution_count": 1,
   "metadata": {},
   "outputs": [],
   "source": [
    "import numpy as np\n",
    "import matplotlib.pyplot as plt\n",
    "import pandas as pd\n",
    "from tqdm import tqdm\n",
    "import pickle\n",
    "from feature_maps import MediumFeatureMap\n",
    "from qiskit.utils import QuantumInstance, algorithm_globals\n",
    "from qiskit_machine_learning.kernels import QuantumKernel\n",
    "from qiskit import Aer\n",
    "from sklearn.svm import SVC\n",
    "from shot_based_kernel import ShotBasedQuantumKernel"
   ]
  },
  {
   "cell_type": "code",
   "execution_count": 58,
   "metadata": {},
   "outputs": [],
   "source": [
    "margin = -0.1\n",
    "Ms = 2**np.arange(6,12)\n",
    "N = 1000\n",
    "Cs = [10,1000]\n",
    "tol = 1e-4\n",
    "\n",
    "sep = 'separable' if margin > 0 else 'overlap'"
   ]
  },
  {
   "cell_type": "code",
   "execution_count": 61,
   "metadata": {},
   "outputs": [],
   "source": [
    "y = np.array(pd.read_csv(f'data/2-qubits/{margin}_y_2048.csv')).reshape(-1)\n",
    "X = np.array(pd.read_csv(f'data/2-qubits/{margin}_X_2048.csv'))\n",
    "\n",
    "def load_data(M, seed = 42):\n",
    "        assert (M <= 2048) & (M % 2 == 0)\n",
    "        np.random.seed(seed)\n",
    "        indices1 = np.random.randint(0,np.sum(y == 1),M//2)\n",
    "        indices2 = np.random.randint(0,np.sum(y == -1),M//2)\n",
    "\n",
    "        X1 = X[y == 1][indices1]\n",
    "        y1 = y[y == 1][indices1]\n",
    "        X2 = X[y == -1][indices2]\n",
    "        y2 = y[y == -1][indices1]\n",
    "\n",
    "        X12 = np.vstack([X1,X2])\n",
    "        y12 = np.append(y1,y2)\n",
    "\n",
    "        shuffle = np.random.choice(M, M, replace=False)\n",
    "        return X12[shuffle], y12[shuffle]"
   ]
  },
  {
   "cell_type": "code",
   "execution_count": 4,
   "metadata": {},
   "outputs": [],
   "source": [
    "# Feature map for the experiment\n",
    "feature_map = MediumFeatureMap(2,4)\n",
    "\n",
    "# Kernel\n",
    "adhoc_backend = QuantumInstance(Aer.get_backend('statevector_simulator'))\n",
    "adhoc_kernel = QuantumKernel(feature_map=feature_map.get_reduced_params_circuit(), quantum_instance=adhoc_backend)"
   ]
  },
  {
   "cell_type": "code",
   "execution_count": 51,
   "metadata": {},
   "outputs": [],
   "source": [
    "R = 1024\n",
    "E = []\n",
    "\n",
    "Ms = 2**np.arange(2,9)\n",
    "for M in Ms:\n",
    "    X_,y_ = load_data(M)\n",
    "    K = adhoc_kernel.evaluate(X_)\n",
    "    s_k = ShotBasedQuantumKernel(K)\n",
    "    K_R = s_k.approximate_kernel(R)\n",
    "    \n",
    "    E.append(np.linalg.norm(K-K_R,ord=2))\n",
    "    "
   ]
  },
  {
   "cell_type": "code",
   "execution_count": 52,
   "metadata": {},
   "outputs": [
    {
     "data": {
      "text/plain": [
       "array([ 0.66891755, -4.39943511])"
      ]
     },
     "execution_count": 52,
     "metadata": {},
     "output_type": "execute_result"
    },
    {
     "data": {
      "image/png": "[encoded data removed]",
      "text/plain": [
       "<Figure size 432x288 with 1 Axes>"
      ]
     },
     "metadata": {
      "needs_background": "light"
     },
     "output_type": "display_data"
    }
   ],
   "source": [
    "plt.scatter(Ms,E)\n",
    "plt.yscale('log')\n",
    "plt.xscale('log')\n",
    "plt.plot(Ms,np.sqrt(Ms))\n",
    "p = np.polyfit(np.log(Ms),np.log(E),1)\n",
    "p"
   ]
  },
  {
   "cell_type": "code",
   "execution_count": 65,
   "metadata": {},
   "outputs": [],
   "source": [
    "R = 1024\n",
    "E2= []\n",
    "\n",
    "Ms = 2**np.arange(3,9)\n",
    "for M in Ms:\n",
    "    X_,y_ = load_data(M)\n",
    "    K = adhoc_kernel.evaluate(X_)\n",
    "    svc = SVC(kernel='precomputed',C=10)\n",
    "    svc.fit(K,y_)\n",
    "    alphas = np.zeros(y_.shape)\n",
    "    alphas[svc.support_] = svc.dual_coef_\n",
    "\n",
    "    s_k = ShotBasedQuantumKernel(K)\n",
    "    K_R = s_k.approximate_kernel(R)\n",
    "    svc_R = SVC(kernel='precomputed',C=10)\n",
    "    svc_R.fit(K_R,y_)\n",
    "    alphas_R = np.zeros(y_.shape)\n",
    "    alphas_R[svc_R.support_] = svc_R.dual_coef_\n",
    "    \n",
    "    E2.append(np.linalg.norm(alphas - alphas_R))\n",
    "    "
   ]
  },
  {
   "cell_type": "code",
   "execution_count": 66,
   "metadata": {},
   "outputs": [
    {
     "data": {
      "text/plain": [
       "array([ 0.92050601, -1.05227211])"
      ]
     },
     "execution_count": 66,
     "metadata": {},
     "output_type": "execute_result"
    },
    {
     "data": {
      "image/png": "[encoded data removed]",
      "text/plain": [
       "<Figure size 432x288 with 1 Axes>"
      ]
     },
     "metadata": {
      "needs_background": "light"
     },
     "output_type": "display_data"
    }
   ],
   "source": [
    "plt.scatter(Ms,E2)\n",
    "plt.yscale('log')\n",
    "plt.xscale('log')\n",
    "plt.plot(Ms,Ms**(5/6))\n",
    "p = np.polyfit(np.log(Ms[1:]),np.log(E2[1:]),1)\n",
    "p"
   ]
  },
  {
   "cell_type": "code",
   "execution_count": 55,
   "metadata": {},
   "outputs": [],
   "source": [
    "R = 1024\n",
    "E3 = []\n",
    "\n",
    "Ms = 2**np.arange(4,11)\n",
    "for M in Ms:\n",
    "    X_,y_ = load_data(M)\n",
    "    K = adhoc_kernel.evaluate(X_)\n",
    "    svc = SVC(kernel='precomputed',C=10,random_state=42)\n",
    "    svc.fit(K,y_)\n",
    "    alphas = np.zeros(y_.shape)\n",
    "    alphas[svc.support_] = svc.dual_coef_\n",
    "\n",
    "    E3.append(np.linalg.norm(alphas))\n",
    "    "
   ]
  },
  {
   "cell_type": "code",
   "execution_count": 39,
   "metadata": {},
   "outputs": [
    {
     "data": {
      "text/plain": [
       "array([0.32718884, 1.7322517 ])"
      ]
     },
     "execution_count": 39,
     "metadata": {},
     "output_type": "execute_result"
    },
    {
     "data": {
      "image/png": "[encoded data removed]",
      "text/plain": [
       "<Figure size 432x288 with 1 Axes>"
      ]
     },
     "metadata": {
      "needs_background": "light"
     },
     "output_type": "display_data"
    }
   ],
   "source": [
    "plt.scatter(Ms,E3)\n",
    "plt.yscale('log')\n",
    "plt.xscale('log')\n",
    "plt.plot(Ms,Ms**(1/3))\n",
    "p = np.polyfit(np.log(Ms),np.log(E3),1)\n",
    "p"
   ]
  }
 ],
 "metadata": {
  "interpreter": {
   "hash": "82c9b155add844aee23525c6d021f33a807b4bfd3db5bda67fe04920efd087bf"
  },
  "kernelspec": {
   "display_name": "Python 3.9.7 64-bit ('quantum_source': conda)",
   "language": "python",
   "name": "python3"
  },
  "language_info": {
   "codemirror_mode": {
    "name": "ipython",
    "version": 3
   },
   "file_extension": ".py",
   "mimetype": "text/x-python",
   "name": "python",
   "nbconvert_exporter": "python",
   "pygments_lexer": "ipython3",
   "version": "3.9.7"
  },
  "orig_nbformat": 4
 },
 "nbformat": 4,
 "nbformat_minor": 2
}
