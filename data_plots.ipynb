{
 "cells": [
  {
   "cell_type": "code",
   "execution_count": 1,
   "metadata": {},
   "outputs": [],
   "source": [
    "import numpy as np\n",
    "import pandas as pd\n",
    "import matplotlib.pyplot as plt"
   ]
  },
  {
   "cell_type": "code",
   "execution_count": 51,
   "metadata": {},
   "outputs": [
    {
     "name": "stdout",
     "output_type": "stream",
     "text": [
      "[64.0, 1.0, 256.0, 512.0, 1024.0, 2.0, 4.0, 8.0]\n",
      "[-5.87493975 30.71871382]\n"
     ]
    },
    {
     "data": {
      "image/png": "[encoded data removed]",
      "text/plain": [
       "<Figure size 432x288 with 1 Axes>"
      ]
     },
     "metadata": {
      "needs_background": "light"
     },
     "output_type": "display_data"
    },
    {
     "name": "stdout",
     "output_type": "stream",
     "text": [
      "[-2.74819486  0.78063838]\n"
     ]
    },
    {
     "data": {
      "image/png": "[encoded data removed]",
      "text/plain": [
       "<Figure size 432x288 with 1 Axes>"
      ]
     },
     "metadata": {
      "needs_background": "light"
     },
     "output_type": "display_data"
    }
   ],
   "source": [
    "# Import data\n",
    "margin = -0.1\n",
    "N = 500\n",
    "data = pd.read_csv(f'experiments/shots_margin{margin}_data.csv')\n",
    "errors = np.array(data.iloc[:, 4 + 2*N:])[:,-1]\n",
    "shots = list(set(data['R']))\n",
    "print(shots)\n",
    "\n",
    "# Plot in loglog #shots ~ epsilon\n",
    "Cs = list(set(data['C']))\n",
    "for C in Cs:\n",
    "    filter = data['C'] == C\n",
    "    means = [np.mean(errors[filter & (data['R'] == R)]) for R in shots]\n",
    "    stds = [np.std(errors[filter & (data['R'] == R)]) for R in shots]\n",
    "    plt.errorbar(means,shots,xerr=stds,linestyle='',marker='.',ecolor='black',elinewidth=1,color='black')\n",
    "    plt.xscale('log')\n",
    "    plt.yscale('log')\n",
    "    plt.ylabel('Shots')\n",
    "    plt.xlabel('Epsilon')\n",
    "    p = np.polyfit(np.log(means),np.log(shots),1)\n",
    "    print(p)\n",
    "    xfine = np.linspace(min(means),max(means),100)\n",
    "    plt.plot(xfine,np.exp(p[1])*xfine**p[0],'--',color='grey')\n",
    "    plt.grid()\n",
    "    plt.title(f'C={int(C)}')\n",
    "    plt.show()"
   ]
  },
  {
   "cell_type": "code",
   "execution_count": 6,
   "metadata": {},
   "outputs": [
    {
     "name": "stdout",
     "output_type": "stream",
     "text": [
      "\u001b[0;31mDocstring:\u001b[0m\n",
      "choice(a, size=None, replace=True, p=None)\n",
      "\n",
      "Generates a random sample from a given 1-D array\n",
      "\n",
      ".. versionadded:: 1.7.0\n",
      "\n",
      ".. note::\n",
      "    New code should use the ``choice`` method of a ``default_rng()``\n",
      "    instance instead; please see the :ref:`random-quick-start`.\n",
      "\n",
      "Parameters\n",
      "----------\n",
      "a : 1-D array-like or int\n",
      "    If an ndarray, a random sample is generated from its elements.\n",
      "    If an int, the random sample is generated as if it were ``np.arange(a)``\n",
      "size : int or tuple of ints, optional\n",
      "    Output shape.  If the given shape is, e.g., ``(m, n, k)``, then\n",
      "    ``m * n * k`` samples are drawn.  Default is None, in which case a\n",
      "    single value is returned.\n",
      "replace : boolean, optional\n",
      "    Whether the sample is with or without replacement. Default is True,\n",
      "    meaning that a value of ``a`` can be selected multiple times.\n",
      "p : 1-D array-like, optional\n",
      "    The probabilities associated with each entry in a.\n",
      "    If not given, the sample assumes a uniform distribution over all\n",
      "    entries in ``a``.\n",
      "\n",
      "Returns\n",
      "-------\n",
      "samples : single item or ndarray\n",
      "    The generated random samples\n",
      "\n",
      "Raises\n",
      "------\n",
      "ValueError\n",
      "    If a is an int and less than zero, if a or p are not 1-dimensional,\n",
      "    if a is an array-like of size 0, if p is not a vector of\n",
      "    probabilities, if a and p have different lengths, or if\n",
      "    replace=False and the sample size is greater than the population\n",
      "    size\n",
      "\n",
      "See Also\n",
      "--------\n",
      "randint, shuffle, permutation\n",
      "Generator.choice: which should be used in new code\n",
      "\n",
      "Notes\n",
      "-----\n",
      "Setting user-specified probabilities through ``p`` uses a more general but less\n",
      "efficient sampler than the default. The general sampler produces a different sample\n",
      "than the optimized sampler even if each element of ``p`` is 1 / len(a).\n",
      "\n",
      "Sampling random rows from a 2-D array is not possible with this function,\n",
      "but is possible with `Generator.choice` through its ``axis`` keyword.\n",
      "\n",
      "Examples\n",
      "--------\n",
      "Generate a uniform random sample from np.arange(5) of size 3:\n",
      "\n",
      ">>> np.random.choice(5, 3)\n",
      "array([0, 3, 4]) # random\n",
      ">>> #This is equivalent to np.random.randint(0,5,3)\n",
      "\n",
      "Generate a non-uniform random sample from np.arange(5) of size 3:\n",
      "\n",
      ">>> np.random.choice(5, 3, p=[0.1, 0, 0.3, 0.6, 0])\n",
      "array([3, 3, 0]) # random\n",
      "\n",
      "Generate a uniform random sample from np.arange(5) of size 3 without\n",
      "replacement:\n",
      "\n",
      ">>> np.random.choice(5, 3, replace=False)\n",
      "array([3,1,0]) # random\n",
      ">>> #This is equivalent to np.random.permutation(np.arange(5))[:3]\n",
      "\n",
      "Generate a non-uniform random sample from np.arange(5) of size\n",
      "3 without replacement:\n",
      "\n",
      ">>> np.random.choice(5, 3, replace=False, p=[0.1, 0, 0.3, 0.6, 0])\n",
      "array([2, 3, 0]) # random\n",
      "\n",
      "Any of the above can be repeated with an arbitrary array-like\n",
      "instead of just integers. For instance:\n",
      "\n",
      ">>> aa_milne_arr = ['pooh', 'rabbit', 'piglet', 'Christopher']\n",
      ">>> np.random.choice(aa_milne_arr, 5, p=[0.5, 0.1, 0.1, 0.3])\n",
      "array(['pooh', 'pooh', 'pooh', 'Christopher', 'piglet'], # random\n",
      "      dtype='<U11')\n",
      "\u001b[0;31mType:\u001b[0m      builtin_function_or_method\n"
     ]
    }
   ],
   "source": [
    "?np.random.choice"
   ]
  }
 ],
 "metadata": {
  "interpreter": {
   "hash": "82c9b155add844aee23525c6d021f33a807b4bfd3db5bda67fe04920efd087bf"
  },
  "kernelspec": {
   "display_name": "Python 3.9.7 64-bit ('quantum_source': conda)",
   "language": "python",
   "name": "python3"
  },
  "language_info": {
   "codemirror_mode": {
    "name": "ipython",
    "version": 3
   },
   "file_extension": ".py",
   "mimetype": "text/x-python",
   "name": "python",
   "nbconvert_exporter": "python",
   "pygments_lexer": "ipython3",
   "version": "3.9.7"
  },
  "orig_nbformat": 4
 },
 "nbformat": 4,
 "nbformat_minor": 2
}
